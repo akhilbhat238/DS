{
 "cells": [
  {
   "cell_type": "code",
   "execution_count": null,
   "id": "c9882283",
   "metadata": {},
   "outputs": [],
   "source": [
    "import pandas as pd\n",
    "import numpy as np\n",
    "%matplotlib inline\n",
    "import re"
   ]
  },
  {
   "cell_type": "code",
   "execution_count": null,
   "id": "5b4a80fd",
   "metadata": {},
   "outputs": [],
   "source": [
    "holidays_df = pd.read_csv('../Data/holidays_events.csv')"
   ]
  },
  {
   "cell_type": "code",
   "execution_count": null,
   "id": "8d998cdd",
   "metadata": {},
   "outputs": [],
   "source": [
    "def replace_translation(translate):\n",
    "    translate = re.sub(\"Traslado \",\"\",translate)\n",
    "    return(translate)"
   ]
  },
  {
   "cell_type": "code",
   "execution_count": null,
   "id": "8f81ec51",
   "metadata": {},
   "outputs": [],
   "source": [
    "def event_replace(event):\n",
    "    conv_string = event\n",
    "    if \"futbol\" in event:\n",
    "        conv_string = \"Football\"\n",
    "    elif \"Terremoto\" in event:\n",
    "        conv_string = \"Earthquake\"\n",
    "    elif \"Black Friday\" in event:\n",
    "        conv_string = \"Tech Day\"\n",
    "    elif \"Cyber Monday\" in event:\n",
    "        conv_string = \"Tech Day\"\n",
    "    elif \"Madre\" in event:\n",
    "        conv_string = \"Mothers Day\"\n",
    "    elif \"dia del ano\" in event:\n",
    "        conv_string = \"New Years\"\n",
    "    elif \"Navidad\" in event:\n",
    "        conv_string = \"Christmas\"\n",
    "    elif \"Difuntos\" in event:\n",
    "        conv_string = \"Day of the Dead\"\n",
    "    elif \"Independencia\" in event:\n",
    "        conv_string = \"Independence Day\"\n",
    "    elif \"Batalla de Pichincha\" in event:\n",
    "        conv_string = \"Pichincha Battle\"\n",
    "    elif \"Cantonizacion\" in event:\n",
    "        conv_string = \"Cantonization Day\"\n",
    "    elif \"Fundacion\" in event:\n",
    "        conv_string = \"Foundation Day\"\n",
    "    elif \"Provincializacion\" in event:\n",
    "        conv_string = \"Provincialization Day\"\n",
    "    elif \"Viernes Santo\" in event:\n",
    "        conv_string = \"Good Friday\"\n",
    "    elif \"Dia del Trabajo\" in event:\n",
    "        conv_string = \"Workers Day\"\n",
    "    elif \"Carnaval\" in event:\n",
    "        conv_string = \"Carnival\"\n",
    "    return conv_string"
   ]
  },
  {
   "cell_type": "code",
   "execution_count": null,
   "id": "2a4f2c8e",
   "metadata": {},
   "outputs": [],
   "source": [
    "holidays_df.head()"
   ]
  },
  {
   "cell_type": "code",
   "execution_count": null,
   "id": "e3ace196",
   "metadata": {},
   "outputs": [],
   "source": [
    "holidays_df['description'] = holidays_df['description'].apply(replace_translation)"
   ]
  },
  {
   "cell_type": "code",
   "execution_count": null,
   "id": "e8433109",
   "metadata": {},
   "outputs": [],
   "source": [
    "holidays_df['description'] = holidays_df['description'].apply(event_replace)"
   ]
  },
  {
   "cell_type": "code",
   "execution_count": null,
   "id": "bae0b9e5",
   "metadata": {},
   "outputs": [],
   "source": [
    "holidays_df['description'].unique()"
   ]
  },
  {
   "cell_type": "code",
   "execution_count": null,
   "id": "77541993",
   "metadata": {},
   "outputs": [],
   "source": [
    "holidays_df.groupby('description')['date'].count().reset_index().sort_values(by='date',ascending=False)"
   ]
  },
  {
   "cell_type": "code",
   "execution_count": null,
   "id": "4eb4aee6",
   "metadata": {},
   "outputs": [],
   "source": [
    "holidays_df[holidays_df['description'].isin(['Foundation Day','Cantonization Day','Provincialization Day'])]['description'] = 'District Holidays'"
   ]
  },
  {
   "cell_type": "code",
   "execution_count": null,
   "id": "62d59543",
   "metadata": {},
   "outputs": [],
   "source": [
    "holidays_df.loc[holidays_df[\"description\"] == \"Foundation Day\", \"description\"] = 'District Holidays'\n",
    "holidays_df.loc[holidays_df[\"description\"] == \"Cantonization Day\", \"description\"] = 'District Holidays'\n",
    "holidays_df.loc[holidays_df[\"description\"] == \"Provincialization Day\", \"description\"] = 'District Holidays'"
   ]
  },
  {
   "cell_type": "code",
   "execution_count": null,
   "id": "7f8c395c",
   "metadata": {},
   "outputs": [],
   "source": [
    "holidays_df.loc[holidays_df[\"description\"] == \"Christmas\", \"description\"] = 'Common Holidays'\n",
    "holidays_df.loc[holidays_df[\"description\"] == \"New Years\", \"description\"] = 'Common Holidays'"
   ]
  },
  {
   "cell_type": "code",
   "execution_count": null,
   "id": "c496f98d",
   "metadata": {},
   "outputs": [],
   "source": [
    "holidays_df.loc[holidays_df[\"description\"] == \"Carnival\", \"description\"] = 'Cultural Holidays'\n",
    "holidays_df.loc[holidays_df[\"description\"] == \"Day of the Dead\", \"description\"] = 'Cultural Holidays'\n",
    "holidays_df.loc[holidays_df[\"description\"] == \"Pichincha Battle\", \"description\"] = 'Cultural Holidays'\n",
    "holidays_df.loc[holidays_df[\"description\"] == \"Football\", \"description\"] = 'Cultural Holidays'"
   ]
  },
  {
   "cell_type": "code",
   "execution_count": null,
   "id": "214320d6",
   "metadata": {},
   "outputs": [],
   "source": [
    "holidays_df.loc[holidays_df[\"description\"] == \"Mothers Day\", \"description\"] = 'Others'\n",
    "holidays_df.loc[holidays_df[\"description\"] == \"Tech Day\", \"description\"] = 'Others'\n",
    "holidays_df.loc[holidays_df[\"description\"] == \"Good Friday\", \"description\"] = 'Others'\n",
    "holidays_df.loc[holidays_df[\"description\"] == \"Workers Day\", \"description\"] = 'Others'"
   ]
  },
  {
   "cell_type": "code",
   "execution_count": null,
   "id": "4e13533a",
   "metadata": {},
   "outputs": [],
   "source": [
    "holidays_df.groupby('description')['date'].count().reset_index().sort_values(by='date',ascending=False)"
   ]
  },
  {
   "cell_type": "code",
   "execution_count": null,
   "id": "cf8ee9e4",
   "metadata": {},
   "outputs": [],
   "source": [
    "holidays_df.head()"
   ]
  },
  {
   "cell_type": "code",
   "execution_count": null,
   "id": "58ef2e76",
   "metadata": {},
   "outputs": [],
   "source": [
    "holidays_df.groupby('locale_name')['date'].count()"
   ]
  },
  {
   "cell_type": "code",
   "execution_count": null,
   "id": "9851e44c",
   "metadata": {},
   "outputs": [],
   "source": [
    "holidays_df.head()"
   ]
  }
 ],
 "metadata": {
  "kernelspec": {
   "display_name": "Python 3 (ipykernel)",
   "language": "python",
   "name": "python3"
  },
  "language_info": {
   "codemirror_mode": {
    "name": "ipython",
    "version": 3
   },
   "file_extension": ".py",
   "mimetype": "text/x-python",
   "name": "python",
   "nbconvert_exporter": "python",
   "pygments_lexer": "ipython3",
   "version": "3.9.10"
  }
 },
 "nbformat": 4,
 "nbformat_minor": 5
}
